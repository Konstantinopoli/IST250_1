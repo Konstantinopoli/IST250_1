{
  "nbformat": 4,
  "nbformat_minor": 0,
  "metadata": {
    "colab": {
      "name": "IST_250_1.ipynb",
      "provenance": []
    },
    "kernelspec": {
      "name": "python3",
      "display_name": "Python 3"
    }
  },
  "cells": [
    {
      "cell_type": "markdown",
      "metadata": {
        "id": "o2mAvAhiakZq",
        "colab_type": "text"
      },
      "source": [
        "#I like using Jupyter notebooks.\n",
        "They make it easier to design and publish interactive web content."
      ]
    },
    {
      "cell_type": "markdown",
      "metadata": {
        "id": "eA-G1GmbiCym",
        "colab_type": "text"
      },
      "source": [
        "#Things I want to learn:\n",
        "I want to learn how to use Jupyter to create interactive web apps for websites. This would allow me to provide a better experience to users of a variety of web services.\n",
        "\n"
      ]
    },
    {
      "cell_type": "markdown",
      "metadata": {
        "id": "TDiHiEeiuo0i",
        "colab_type": "text"
      },
      "source": [
        "![Great Wave off Kanagawa](https://github.com/Konstantinopoli/IST250_1/raw/master/1280px-Great_Wave_off_Kanagawa2.jpg)"
      ]
    }
  ]
}

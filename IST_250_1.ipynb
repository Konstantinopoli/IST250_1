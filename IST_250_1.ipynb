{
  "nbformat": 4,
  "nbformat_minor": 0,
  "metadata": {
    "colab": {
      "name": "IST_250_1.ipynb",
      "provenance": [],
      "authorship_tag": "ABX9TyN8V2m7kgQ5A0Rt+n7SKeDp",
      "include_colab_link": true
    },
    "kernelspec": {
      "name": "python3",
      "display_name": "Python 3"
    }
  },
  "cells": [
    {
      "cell_type": "markdown",
      "metadata": {
        "id": "view-in-github",
        "colab_type": "text"
      },
      "source": [
        "<a href=\"https://colab.research.google.com/github/Konstantinopoli/IST250_1/blob/master/IST_250_1.ipynb\" target=\"_parent\"><img src=\"https://colab.research.google.com/assets/colab-badge.svg\" alt=\"Open In Colab\"/></a>"
      ]
    },
    {
      "cell_type": "markdown",
      "metadata": {
        "id": "o2mAvAhiakZq",
        "colab_type": "text"
      },
      "source": [
        "#I like using Jupyter notebooks.\n",
        "They make it easier to design and publish interactive web content."
      ]
    },
    {
      "cell_type": "markdown",
      "metadata": {
        "id": "eA-G1GmbiCym",
        "colab_type": "text"
      },
      "source": [
        "#Things I want to learn:\n",
        "I want to learn how to use Jupyter to create interactive web apps for websites. This would allow me to provide a better experience to users of a variety of web services.\n",
        "\n"
      ]
    },
    {
      "cell_type": "code",
      "metadata": {
        "id": "MwUlmK7vbVPb",
        "colab_type": "code",
        "colab": {}
      },
      "source": [
        ""
      ],
      "execution_count": null,
      "outputs": []
    }
  ]
}